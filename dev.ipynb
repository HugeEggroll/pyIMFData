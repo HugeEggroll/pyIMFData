{
 "cells": [
  {
   "cell_type": "code",
   "execution_count": 1,
   "metadata": {
    "collapsed": false
   },
   "outputs": [],
   "source": [
    "import requests\n",
    "import json\n",
    "import pandas as pd\n",
    "import collections"
   ]
  },
  {
   "cell_type": "code",
   "execution_count": 77,
   "metadata": {
    "collapsed": true
   },
   "outputs": [],
   "source": [
    "r = requests.get('http://dataservices.imf.org/RESsT/SDMX_JSON.svc/Dataflow/')"
   ]
  },
  {
   "cell_type": "code",
   "execution_count": 3,
   "metadata": {
    "collapsed": false
   },
   "outputs": [],
   "source": [
    "def DataflowMethod():\n",
    "    r = requests.get('http://dataservices.imf.org/REST/SDMX_JSON.svc/Dataflow/')\n",
    "    IDs = pd.DataFrame(r.json()['Structure']['Dataflows']['Dataflow'])['KeyFamilyRef'].apply(lambda x: x['KeyFamilyID'])\n",
    "    Texts = pd.DataFrame(r.json()['Structure']['Dataflows']['Dataflow'])['Name'].apply(lambda x: x['#text'])\n",
    "    return(pd.DataFrame({'DatabaseID': IDs, \n",
    "                         'DatabaseText': Texts}))"
   ]
  },
  {
   "cell_type": "code",
   "execution_count": 4,
   "metadata": {
    "collapsed": false
   },
   "outputs": [],
   "source": [
    "def DataStructureMethod(database_id, check_query = False):\n",
    "    \n",
    "    if check_query:\n",
    "        available_datasets = DataflowMethod()['DatabaseID'].tolist()\n",
    "        if not database_id in available_datasets:\n",
    "            return None\n",
    "\n",
    "    r = requests.get(''.join(['http://dataservices.imf.org/REST/SDMX_JSON.svc/DataStructure/',database_id]))\n",
    "    if not r.ok:\n",
    "        return None\n",
    "\n",
    "    rparsed = r.json()\n",
    "    dim_code = pd.Series(rparsed['Structure']['KeyFamilies']['KeyFamily']['Components']['Dimension']).apply(lambda x: x['@codelist']).tolist()\n",
    "    dim_codedict = [x for x in rparsed['Structure']['CodeLists']['CodeList'] if x['@id'] in dim_code]\n",
    "    dim_codedict = dict(zip(pd.Series(dim_codedict).apply(lambda x: x['@id']).tolist(), dim_codedict))\n",
    "    for k in dim_codedict.keys():\n",
    "        dim_codedict[k] = pd.DataFrame({\n",
    "                'CodeValue' : pd.Series(dim_codedict[k]['Code']).apply(lambda x: x['@value']),\n",
    "                'CodeText' : pd.Series(dim_codedict[k]['Code']).apply(lambda x: x['Description']['#text'])\n",
    "            })\n",
    "    \n",
    "    return((dim_code, dim_codedict))"
   ]
  },
  {
   "cell_type": "code",
   "execution_count": 226,
   "metadata": {
    "collapsed": false
   },
   "outputs": [],
   "source": [
    "def CompactDataMethod(database_id, queryfilter=None, \n",
    "                      startdate='2001-01-01', enddate='2001-12-31',\n",
    "                      checkquery = False, verbose=False):\n",
    "    \n",
    "    if checkquery:\n",
    "        available_datasets = DataflowMethod()['DatabaseID'].tolist()\n",
    "        if not database_id in available_datasets:\n",
    "            return None\n",
    "        \n",
    "    queryfilterstr = ''\n",
    "    if len(queryfilter[1]) > 0 and len(queryfilter[0]) == len(queryfilter[1]):\n",
    "        queryfilterstr = '.'.join(['+'.join(queryfilter[1][k]) for k in queryfilter[0]])\n",
    "        \n",
    "    APIstr = ''.join(['http://dataservices.imf.org/REST/SDMX_JSON.svc/CompactData/',\n",
    "                      databaseID,'/',queryfilterstr,'?startPeriod=',startdate,'&endPeriod=',enddate])\n",
    "    r = requests.get(APIstr)        \n",
    "    \n",
    "    if verbose:\n",
    "        print('\\nmaking API call:\\n')\n",
    "        print(APIstr)\n",
    "        print('\\n')\n",
    "        \n",
    "    if not r.ok:\n",
    "        return None        \n",
    "\n",
    "    rparsed = r.json()\n",
    "    \n",
    "    if not 'Series' in list(rparsed['CompactData']['DataSet'].keys()):\n",
    "        print('no data available \\n')\n",
    "        return None\n",
    "\n",
    "    return_df = [x for x in rparsed['CompactData']['DataSet']['Series'] if 'Obs' in x]\n",
    "    for x in return_df:\n",
    "        if isinstance(x['Obs'],dict):\n",
    "            x['Obs'] = [x['Obs']]\n",
    "\n",
    "    return_df = pd.concat([pd.DataFrame(x) for x in return_df])\n",
    "    obs_keys = return_df['Obs'].apply(lambda x: [y for y in x.keys()]).tolist()\n",
    "    obs_keys = set([val for sublist in obs_keys for val in sublist])\n",
    "\n",
    "    for obs_key in obs_keys:\n",
    "        return_df[obs_key] = return_df['Obs'].apply(lambda x: x[obs_key] if obs_key in x.keys() else None)\n",
    "\n",
    "    del return_df['Obs']\n",
    "    return_df = return_df.reset_index()       \n",
    "\n",
    "    return(return_df)\n"
   ]
  },
  {
   "cell_type": "code",
   "execution_count": 230,
   "metadata": {
    "collapsed": false
   },
   "outputs": [
    {
     "data": {
      "text/html": [
       "<div>\n",
       "<table border=\"1\" class=\"dataframe\">\n",
       "  <thead>\n",
       "    <tr style=\"text-align: right;\">\n",
       "      <th></th>\n",
       "      <th>index</th>\n",
       "      <th>@FREQ</th>\n",
       "      <th>@INDICATOR</th>\n",
       "      <th>@REF_AREA</th>\n",
       "      <th>@TIME_FORMAT</th>\n",
       "      <th>@UNIT_MULT</th>\n",
       "      <th>@OBS_VALUE</th>\n",
       "      <th>@OBS_STATUS</th>\n",
       "      <th>@TIME_PERIOD</th>\n",
       "    </tr>\n",
       "  </thead>\n",
       "  <tbody>\n",
       "    <tr>\n",
       "      <th>0</th>\n",
       "      <td>0</td>\n",
       "      <td>Q</td>\n",
       "      <td>NGDP_EUR</td>\n",
       "      <td>GR</td>\n",
       "      <td>P3M</td>\n",
       "      <td>9</td>\n",
       "      <td>35.2366</td>\n",
       "      <td>K</td>\n",
       "      <td>2001-Q1</td>\n",
       "    </tr>\n",
       "    <tr>\n",
       "      <th>1</th>\n",
       "      <td>1</td>\n",
       "      <td>Q</td>\n",
       "      <td>NGDP_EUR</td>\n",
       "      <td>GR</td>\n",
       "      <td>P3M</td>\n",
       "      <td>9</td>\n",
       "      <td>36.7264</td>\n",
       "      <td>None</td>\n",
       "      <td>2001-Q2</td>\n",
       "    </tr>\n",
       "    <tr>\n",
       "      <th>2</th>\n",
       "      <td>2</td>\n",
       "      <td>Q</td>\n",
       "      <td>NGDP_EUR</td>\n",
       "      <td>GR</td>\n",
       "      <td>P3M</td>\n",
       "      <td>9</td>\n",
       "      <td>39.8428</td>\n",
       "      <td>None</td>\n",
       "      <td>2001-Q3</td>\n",
       "    </tr>\n",
       "    <tr>\n",
       "      <th>3</th>\n",
       "      <td>3</td>\n",
       "      <td>Q</td>\n",
       "      <td>NGDP_EUR</td>\n",
       "      <td>GR</td>\n",
       "      <td>P3M</td>\n",
       "      <td>9</td>\n",
       "      <td>40.3881</td>\n",
       "      <td>None</td>\n",
       "      <td>2001-Q4</td>\n",
       "    </tr>\n",
       "    <tr>\n",
       "      <th>4</th>\n",
       "      <td>0</td>\n",
       "      <td>A</td>\n",
       "      <td>NGDP_EUR</td>\n",
       "      <td>GR</td>\n",
       "      <td>P1Y</td>\n",
       "      <td>9</td>\n",
       "      <td>151.9872</td>\n",
       "      <td>K</td>\n",
       "      <td>2001</td>\n",
       "    </tr>\n",
       "  </tbody>\n",
       "</table>\n",
       "</div>"
      ],
      "text/plain": [
       "   index @FREQ @INDICATOR @REF_AREA @TIME_FORMAT @UNIT_MULT @OBS_VALUE  \\\n",
       "0      0     Q   NGDP_EUR        GR          P3M          9    35.2366   \n",
       "1      1     Q   NGDP_EUR        GR          P3M          9    36.7264   \n",
       "2      2     Q   NGDP_EUR        GR          P3M          9    39.8428   \n",
       "3      3     Q   NGDP_EUR        GR          P3M          9    40.3881   \n",
       "4      0     A   NGDP_EUR        GR          P1Y          9   151.9872   \n",
       "\n",
       "  @OBS_STATUS @TIME_PERIOD  \n",
       "0           K      2001-Q1  \n",
       "1        None      2001-Q2  \n",
       "2        None      2001-Q3  \n",
       "3        None      2001-Q4  \n",
       "4           K         2001  "
      ]
     },
     "execution_count": 230,
     "metadata": {},
     "output_type": "execute_result"
    }
   ],
   "source": [
    "queryfilter = (['CL_FREA','CL_AREA_IFS','CL_INDICATOR_IFS'], \n",
    "               {'CL_FREA':['Q','A'],\n",
    "                'CL_AREA_IFS':['GR'],\n",
    "                'CL_INDICATOR_IFS':['NGDP_EUR','NGDP_XDC']})\n",
    "CompactDataMethod('IFS', queryfilter)"
   ]
  },
  {
   "cell_type": "code",
   "execution_count": 99,
   "metadata": {
    "collapsed": true
   },
   "outputs": [],
   "source": [
    "# teststr = 'http://dataservices.imf.org/REST/SDMX_JSON.svc/CompactData/IFS/Q+A.GR.NGDP_EUR+NGDP_XDC?startPeriod=2001-01-01&endPeriod=2001-12-31'\n",
    "teststr = 'http://dataservices.imf.org/REST/SDMX_JSON.svc/CompactData/IFS/A.GR.NGDP_EUR+NGDP_XDC?startPeriod=1990-01-01&endPeriod=2001-12-31'\n",
    "# teststr = 'http://dataservices.imf.org/REST/SDMX_JSON.svc/CompactData/IFS/Q+A.GR.NGDP_EsUR+NGDP_sXDC?startPeriod=2001-01-01&endPeriod=2001-12-31'"
   ]
  },
  {
   "cell_type": "code",
   "execution_count": 225,
   "metadata": {
    "collapsed": false
   },
   "outputs": [
    {
     "name": "stdout",
     "output_type": "stream",
     "text": [
      "@OBS_VALUE\n",
      "@OBS_STATUS\n",
      "@TIME_PERIOD\n"
     ]
    }
   ],
   "source": [
    "r = requests.get(teststr)        \n",
    "rparsed = r.json()\n",
    "return_df = [x for x in rparsed['CompactData']['DataSet']['Series'] if 'Obs' in x]\n",
    "for x in return_df:\n",
    "    if isinstance(x['Obs'],dict):\n",
    "        x['Obs'] = [x['Obs']]\n",
    "        \n",
    "return_df = pd.concat([pd.DataFrame(x) for x in return_df])\n",
    "obs_keys = return_df['Obs'].apply(lambda x: [y for y in x.keys()]).tolist()\n",
    "obs_keys = set([val for sublist in obs_keys for val in sublist])\n",
    "\n",
    "for obs_key in obs_keys:\n",
    "    return_df[obs_key] = return_df['Obs'].apply(lambda x: x[obs_key] if obs_key in x.keys() else None)\n",
    "\n",
    "del return_df['Obs']\n",
    "return_df = return_df.reset_index()"
   ]
  },
  {
   "cell_type": "code",
   "execution_count": 224,
   "metadata": {
    "collapsed": false
   },
   "outputs": [
    {
     "data": {
      "text/html": [
       "<div>\n",
       "<table border=\"1\" class=\"dataframe\">\n",
       "  <thead>\n",
       "    <tr style=\"text-align: right;\">\n",
       "      <th></th>\n",
       "      <th>index</th>\n",
       "      <th>@FREQ</th>\n",
       "      <th>@INDICATOR</th>\n",
       "      <th>@REF_AREA</th>\n",
       "      <th>@TIME_FORMAT</th>\n",
       "      <th>@UNIT_MULT</th>\n",
       "      <th>@OBS_VALUE</th>\n",
       "      <th>@OBS_STATUS</th>\n",
       "      <th>@TIME_PERIOD</th>\n",
       "    </tr>\n",
       "  </thead>\n",
       "  <tbody>\n",
       "    <tr>\n",
       "      <th>0</th>\n",
       "      <td>0</td>\n",
       "      <td>A</td>\n",
       "      <td>NGDP_XDC</td>\n",
       "      <td>GR</td>\n",
       "      <td>P1Y</td>\n",
       "      <td>9</td>\n",
       "      <td>13327.0016925</td>\n",
       "      <td>None</td>\n",
       "      <td>1990</td>\n",
       "    </tr>\n",
       "    <tr>\n",
       "      <th>1</th>\n",
       "      <td>1</td>\n",
       "      <td>A</td>\n",
       "      <td>NGDP_XDC</td>\n",
       "      <td>GR</td>\n",
       "      <td>P1Y</td>\n",
       "      <td>9</td>\n",
       "      <td>16458.9985025</td>\n",
       "      <td>None</td>\n",
       "      <td>1991</td>\n",
       "    </tr>\n",
       "    <tr>\n",
       "      <th>2</th>\n",
       "      <td>2</td>\n",
       "      <td>A</td>\n",
       "      <td>NGDP_XDC</td>\n",
       "      <td>GR</td>\n",
       "      <td>P1Y</td>\n",
       "      <td>9</td>\n",
       "      <td>19026.9995425</td>\n",
       "      <td>None</td>\n",
       "      <td>1992</td>\n",
       "    </tr>\n",
       "    <tr>\n",
       "      <th>3</th>\n",
       "      <td>3</td>\n",
       "      <td>A</td>\n",
       "      <td>NGDP_XDC</td>\n",
       "      <td>GR</td>\n",
       "      <td>P1Y</td>\n",
       "      <td>9</td>\n",
       "      <td>21423.9986025</td>\n",
       "      <td>None</td>\n",
       "      <td>1993</td>\n",
       "    </tr>\n",
       "    <tr>\n",
       "      <th>4</th>\n",
       "      <td>4</td>\n",
       "      <td>A</td>\n",
       "      <td>NGDP_XDC</td>\n",
       "      <td>GR</td>\n",
       "      <td>P1Y</td>\n",
       "      <td>9</td>\n",
       "      <td>24295.999755</td>\n",
       "      <td>None</td>\n",
       "      <td>1994</td>\n",
       "    </tr>\n",
       "    <tr>\n",
       "      <th>5</th>\n",
       "      <td>5</td>\n",
       "      <td>A</td>\n",
       "      <td>NGDP_XDC</td>\n",
       "      <td>GR</td>\n",
       "      <td>P1Y</td>\n",
       "      <td>9</td>\n",
       "      <td>30515.97529</td>\n",
       "      <td>None</td>\n",
       "      <td>1995</td>\n",
       "    </tr>\n",
       "    <tr>\n",
       "      <th>6</th>\n",
       "      <td>6</td>\n",
       "      <td>A</td>\n",
       "      <td>NGDP_XDC</td>\n",
       "      <td>GR</td>\n",
       "      <td>P1Y</td>\n",
       "      <td>9</td>\n",
       "      <td>33528.7470825</td>\n",
       "      <td>None</td>\n",
       "      <td>1996</td>\n",
       "    </tr>\n",
       "    <tr>\n",
       "      <th>7</th>\n",
       "      <td>7</td>\n",
       "      <td>A</td>\n",
       "      <td>NGDP_XDC</td>\n",
       "      <td>GR</td>\n",
       "      <td>P1Y</td>\n",
       "      <td>9</td>\n",
       "      <td>37103.006725</td>\n",
       "      <td>None</td>\n",
       "      <td>1997</td>\n",
       "    </tr>\n",
       "    <tr>\n",
       "      <th>8</th>\n",
       "      <td>8</td>\n",
       "      <td>A</td>\n",
       "      <td>NGDP_XDC</td>\n",
       "      <td>GR</td>\n",
       "      <td>P1Y</td>\n",
       "      <td>9</td>\n",
       "      <td>40344.2582075</td>\n",
       "      <td>None</td>\n",
       "      <td>1998</td>\n",
       "    </tr>\n",
       "    <tr>\n",
       "      <th>9</th>\n",
       "      <td>9</td>\n",
       "      <td>A</td>\n",
       "      <td>NGDP_XDC</td>\n",
       "      <td>GR</td>\n",
       "      <td>P1Y</td>\n",
       "      <td>9</td>\n",
       "      <td>42987.432105</td>\n",
       "      <td>None</td>\n",
       "      <td>1999</td>\n",
       "    </tr>\n",
       "    <tr>\n",
       "      <th>10</th>\n",
       "      <td>10</td>\n",
       "      <td>A</td>\n",
       "      <td>NGDP_XDC</td>\n",
       "      <td>GR</td>\n",
       "      <td>P1Y</td>\n",
       "      <td>9</td>\n",
       "      <td>46437.75075</td>\n",
       "      <td>None</td>\n",
       "      <td>2000</td>\n",
       "    </tr>\n",
       "    <tr>\n",
       "      <th>11</th>\n",
       "      <td>0</td>\n",
       "      <td>A</td>\n",
       "      <td>NGDP_EUR</td>\n",
       "      <td>GR</td>\n",
       "      <td>P1Y</td>\n",
       "      <td>9</td>\n",
       "      <td>151.9872</td>\n",
       "      <td>K</td>\n",
       "      <td>2001</td>\n",
       "    </tr>\n",
       "  </tbody>\n",
       "</table>\n",
       "</div>"
      ],
      "text/plain": [
       "    index @FREQ @INDICATOR @REF_AREA @TIME_FORMAT @UNIT_MULT     @OBS_VALUE  \\\n",
       "0       0     A   NGDP_XDC        GR          P1Y          9  13327.0016925   \n",
       "1       1     A   NGDP_XDC        GR          P1Y          9  16458.9985025   \n",
       "2       2     A   NGDP_XDC        GR          P1Y          9  19026.9995425   \n",
       "3       3     A   NGDP_XDC        GR          P1Y          9  21423.9986025   \n",
       "4       4     A   NGDP_XDC        GR          P1Y          9   24295.999755   \n",
       "5       5     A   NGDP_XDC        GR          P1Y          9    30515.97529   \n",
       "6       6     A   NGDP_XDC        GR          P1Y          9  33528.7470825   \n",
       "7       7     A   NGDP_XDC        GR          P1Y          9   37103.006725   \n",
       "8       8     A   NGDP_XDC        GR          P1Y          9  40344.2582075   \n",
       "9       9     A   NGDP_XDC        GR          P1Y          9   42987.432105   \n",
       "10     10     A   NGDP_XDC        GR          P1Y          9    46437.75075   \n",
       "11      0     A   NGDP_EUR        GR          P1Y          9       151.9872   \n",
       "\n",
       "   @OBS_STATUS @TIME_PERIOD  \n",
       "0         None         1990  \n",
       "1         None         1991  \n",
       "2         None         1992  \n",
       "3         None         1993  \n",
       "4         None         1994  \n",
       "5         None         1995  \n",
       "6         None         1996  \n",
       "7         None         1997  \n",
       "8         None         1998  \n",
       "9         None         1999  \n",
       "10        None         2000  \n",
       "11           K         2001  "
      ]
     },
     "execution_count": 224,
     "metadata": {},
     "output_type": "execute_result"
    }
   ],
   "source": [
    "return_df.reset_index()"
   ]
  },
  {
   "cell_type": "code",
   "execution_count": 208,
   "metadata": {
    "collapsed": false
   },
   "outputs": [
    {
     "data": {
      "text/plain": [
       "'151.9872'"
      ]
     },
     "execution_count": 208,
     "metadata": {},
     "output_type": "execute_result"
    }
   ],
   "source": [
    "return_df['Obs'].iloc[11]['@OBS_VALUE']"
   ]
  },
  {
   "cell_type": "code",
   "execution_count": 163,
   "metadata": {
    "collapsed": false
   },
   "outputs": [
    {
     "data": {
      "text/plain": [
       "0    [{'@OBS_VALUE': '13327.0016925', '@TIME_PERIOD...\n",
       "1    [{'@OBS_VALUE': '151.9872', '@OBS_STATUS': 'K'...\n",
       "Name: Obs, dtype: object"
      ]
     },
     "execution_count": 163,
     "metadata": {},
     "output_type": "execute_result"
    }
   ],
   "source": [
    "return_df['Obs'].appl"
   ]
  },
  {
   "cell_type": "code",
   "execution_count": 130,
   "metadata": {
    "collapsed": false
   },
   "outputs": [
    {
     "data": {
      "text/plain": [
       "{'@FREQ': 'A',\n",
       " '@INDICATOR': 'NGDP_XDC',\n",
       " '@REF_AREA': 'GR',\n",
       " '@TIME_FORMAT': 'P1Y',\n",
       " '@UNIT_MULT': '9',\n",
       " 'Obs': [{'@OBS_VALUE': '13327.0016925', '@TIME_PERIOD': '1990'},\n",
       "  {'@OBS_VALUE': '16458.9985025', '@TIME_PERIOD': '1991'},\n",
       "  {'@OBS_VALUE': '19026.9995425', '@TIME_PERIOD': '1992'},\n",
       "  {'@OBS_VALUE': '21423.9986025', '@TIME_PERIOD': '1993'},\n",
       "  {'@OBS_VALUE': '24295.999755', '@TIME_PERIOD': '1994'},\n",
       "  {'@OBS_VALUE': '30515.97529', '@TIME_PERIOD': '1995'},\n",
       "  {'@OBS_VALUE': '33528.7470825', '@TIME_PERIOD': '1996'},\n",
       "  {'@OBS_VALUE': '37103.006725', '@TIME_PERIOD': '1997'},\n",
       "  {'@OBS_VALUE': '40344.2582075', '@TIME_PERIOD': '1998'},\n",
       "  {'@OBS_VALUE': '42987.432105', '@TIME_PERIOD': '1999'},\n",
       "  {'@OBS_VALUE': '46437.75075', '@TIME_PERIOD': '2000'}]}"
      ]
     },
     "execution_count": 130,
     "metadata": {},
     "output_type": "execute_result"
    }
   ],
   "source": [
    "rparsed['CompactData']['DataSet']['Series'][0]"
   ]
  },
  {
   "cell_type": "code",
   "execution_count": 30,
   "metadata": {
    "collapsed": false
   },
   "outputs": [],
   "source": [
    "adict = {'a':1, 'b':2, 'c':3}"
   ]
  },
  {
   "cell_type": "code",
   "execution_count": 31,
   "metadata": {
    "collapsed": false
   },
   "outputs": [
    {
     "data": {
      "text/plain": [
       "True"
      ]
     },
     "execution_count": 31,
     "metadata": {},
     "output_type": "execute_result"
    }
   ],
   "source": [
    "'a' in adict"
   ]
  },
  {
   "cell_type": "code",
   "execution_count": 76,
   "metadata": {
    "collapsed": false
   },
   "outputs": [
    {
     "ename": "AttributeError",
     "evalue": "'dict' object has no attribute 'iteritems'",
     "output_type": "error",
     "traceback": [
      "\u001b[1;31m---------------------------------------------------------------------------\u001b[0m",
      "\u001b[1;31mAttributeError\u001b[0m                            Traceback (most recent call last)",
      "\u001b[1;32m<ipython-input-76-ed5949a77618>\u001b[0m in \u001b[0;36m<module>\u001b[1;34m()\u001b[0m\n\u001b[1;32m----> 1\u001b[1;33m \u001b[0madict\u001b[0m\u001b[1;33m.\u001b[0m\u001b[0miteritems\u001b[0m\u001b[1;33m(\u001b[0m\u001b[1;33m)\u001b[0m\u001b[1;33m\u001b[0m\u001b[0m\n\u001b[0m",
      "\u001b[1;31mAttributeError\u001b[0m: 'dict' object has no attribute 'iteritems'"
     ]
    }
   ],
   "source": [
    "adict.iteritems()"
   ]
  },
  {
   "cell_type": "code",
   "execution_count": null,
   "metadata": {
    "collapsed": true
   },
   "outputs": [],
   "source": []
  }
 ],
 "metadata": {
  "anaconda-cloud": {},
  "kernelspec": {
   "display_name": "Python [Root]",
   "language": "python",
   "name": "Python [Root]"
  },
  "language_info": {
   "codemirror_mode": {
    "name": "ipython",
    "version": 3
   },
   "file_extension": ".py",
   "mimetype": "text/x-python",
   "name": "python",
   "nbconvert_exporter": "python",
   "pygments_lexer": "ipython3",
   "version": "3.5.2"
  }
 },
 "nbformat": 4,
 "nbformat_minor": 0
}
