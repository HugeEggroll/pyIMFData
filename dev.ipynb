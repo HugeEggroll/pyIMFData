{
 "cells": [
  {
   "cell_type": "code",
   "execution_count": 1,
   "metadata": {
    "collapsed": false
   },
   "outputs": [],
   "source": [
    "import requests\n",
    "import pandas as pd\n",
    "import collections"
   ]
  },
  {
   "cell_type": "code",
   "execution_count": 2,
   "metadata": {
    "collapsed": true
   },
   "outputs": [],
   "source": [
    "r = requests.get('http://dataservices.imf.org/RESsT/SDMX_JSON.svc/Dataflow/')"
   ]
  },
  {
   "cell_type": "code",
   "execution_count": 5,
   "metadata": {
    "collapsed": false
   },
   "outputs": [],
   "source": [
    "def DataflowMethod():\n",
    "    r = requests.get('http://dataservices.imf.org/REST/SDMX_JSON.svc/Dataflow/')\n",
    "    IDs = pd.DataFrame(r.json()['Structure']['Dataflows']['Dataflow'])['KeyFamilyRef'].apply(lambda x: x['KeyFamilyID'])\n",
    "    Texts = pd.DataFrame(r.json()['Structure']['Dataflows']['Dataflow'])['Name'].apply(lambda x: x['#text'])\n",
    "    return(pd.DataFrame({'DatabaseID': IDs, \n",
    "                         'DatabaseText': Texts}))"
   ]
  },
  {
   "cell_type": "code",
   "execution_count": 17,
   "metadata": {
    "collapsed": false
   },
   "outputs": [],
   "source": [
    "def dataflow_method():\n",
    "    base_url = 'http://dataservices.imf.org/REST/SDMX_JSON.svc/'\n",
    "    service_name = 'Dataflow/'\n",
    "    request_url = ''.join([base_url, service_name])\n",
    "    raw_request = requests.get(request_url)\n",
    "    par_request = pd.DataFrame(raw_request.json()['Structure']['Dataflows']['Dataflow'])\n",
    "    ids = par_request['KeyFamilyRef'].apply(lambda x: x['KeyFamilyID'])\n",
    "    texts = par_request['Name'].apply(lambda x: x['#text'])\n",
    "    return pd.DataFrame({'DatabaseID': ids, 'DatabaseText': texts})\n"
   ]
  },
  {
   "cell_type": "code",
   "execution_count": 18,
   "metadata": {
    "collapsed": false
   },
   "outputs": [
    {
     "data": {
      "text/plain": [
       "(74, 2)"
      ]
     },
     "execution_count": 18,
     "metadata": {},
     "output_type": "execute_result"
    }
   ],
   "source": [
    "# dfm = DataflowMethod()\n",
    "dfm = dataflow_method()\n",
    "dfm.shape"
   ]
  },
  {
   "cell_type": "code",
   "execution_count": 13,
   "metadata": {
    "collapsed": false
   },
   "outputs": [],
   "source": [
    "def DataStructureMethod(database_id, check_query = False):\n",
    "    \n",
    "    if check_query:\n",
    "        available_datasets = DataflowMethod()['DatabaseID'].tolist()\n",
    "        if not database_id in available_datasets:\n",
    "            return None\n",
    "\n",
    "    r = requests.get(''.join(['http://dataservices.imf.org/REST/SDMX_JSON.svc/DataStructure/',database_id]))\n",
    "    if not r.ok:\n",
    "        return None\n",
    "\n",
    "    rparsed = r.json()\n",
    "    dim_code = pd.Series(rparsed['Structure']['KeyFamilies']['KeyFamily']['Components']['Dimension']).apply(lambda x: x['@codelist']).tolist()\n",
    "    dim_codedict = [x for x in rparsed['Structure']['CodeLists']['CodeList'] if x['@id'] in dim_code]\n",
    "    dim_codedict = dict(zip(pd.Series(dim_codedict).apply(lambda x: x['@id']).tolist(), dim_codedict))\n",
    "    for k in dim_codedict.keys():\n",
    "        dim_codedict[k] = pd.DataFrame({\n",
    "                'CodeValue' : pd.Series(dim_codedict[k]['Code']).apply(lambda x: x['@value']),\n",
    "                'CodeText' : pd.Series(dim_codedict[k]['Code']).apply(lambda x: x['Description']['#text'])\n",
    "            })\n",
    "    \n",
    "    return((dim_code, dim_codedict))"
   ]
  },
  {
   "cell_type": "code",
   "execution_count": 21,
   "metadata": {
    "collapsed": true
   },
   "outputs": [],
   "source": [
    "def data_structure_method(database_id, check_query=False):\n",
    "\n",
    "    if check_query:\n",
    "        available_datasets = dataflow_method()['DatabaseID'].tolist()\n",
    "        if database_id not in available_datasets:\n",
    "            return None\n",
    "\n",
    "    base_url = 'http://dataservices.imf.org/REST/SDMX_JSON.svc/'\n",
    "    service_name = 'DataStructure/'\n",
    "    request_url = ''.join([base_url, service_name, database_id])\n",
    "    raw_request = requests.get(request_url)\n",
    "\n",
    "    if not raw_request.ok:\n",
    "        return None\n",
    "\n",
    "    rparsed = raw_request.json()['Structure']\n",
    "    dim_code = pd.Series(rparsed['KeyFamilies']['KeyFamily']['Components']['Dimension']).apply(\n",
    "        lambda x: x['@codelist']).tolist()\n",
    "    dim_codedict = [x for x in rparsed['CodeLists']['CodeList'] if x['@id'] in dim_code]\n",
    "    dim_codedict = dict(zip(pd.Series(dim_codedict).apply(lambda x: x['@id']).tolist(),\n",
    "                            dim_codedict))\n",
    "\n",
    "    for k in dim_codedict.keys():\n",
    "        dim_codedict[k] = pd.DataFrame({\n",
    "            'CodeValue': pd.Series(dim_codedict[k]['Code']).apply(lambda x: x['@value']),\n",
    "            'CodeText': pd.Series(\n",
    "                    dim_codedict[k]['Code']).apply(lambda x: x['Description']['#text'])})\n",
    "\n",
    "    return (dim_code, dim_codedict)\n",
    "\n"
   ]
  },
  {
   "cell_type": "code",
   "execution_count": 22,
   "metadata": {
    "collapsed": false
   },
   "outputs": [
    {
     "data": {
      "text/plain": [
       "['CL_FREQ', 'CL_AREA_IFS', 'CL_INDICATOR_IFS']"
      ]
     },
     "execution_count": 22,
     "metadata": {},
     "output_type": "execute_result"
    }
   ],
   "source": [
    "# dsm = DataStructureMethod('IFS')\n",
    "dsm = data_structure_method('IFS')\n",
    "dsm[0]"
   ]
  },
  {
   "cell_type": "code",
   "execution_count": null,
   "metadata": {
    "collapsed": false
   },
   "outputs": [],
   "source": [
    "def CompactDataMethod(database_id, queryfilter=None, \n",
    "                      startdate='2001-01-01', enddate='2001-12-31',\n",
    "                      checkquery = False, verbose=False):\n",
    "    \n",
    "    if checkquery:\n",
    "        available_datasets = DataflowMethod()['DatabaseID'].tolist()\n",
    "        if not database_id in available_datasets:\n",
    "            return None\n",
    "        \n",
    "    queryfilterstr = ''\n",
    "    if len(queryfilter[1]) > 0 and len(queryfilter[0]) == len(queryfilter[1]):\n",
    "        queryfilterstr = '.'.join(['+'.join(queryfilter[1][k]) for k in queryfilter[0]])\n",
    "        \n",
    "    APIstr = ''.join(['http://dataservices.imf.org/REST/SDMX_JSON.svc/CompactData/',\n",
    "                      database_id,'/',queryfilterstr,'?startPeriod=',startdate,'&endPeriod=',enddate])\n",
    "    r = requests.get(APIstr)        \n",
    "    \n",
    "    if verbose:\n",
    "        print('\\nmaking API call:\\n')\n",
    "        print(APIstr)\n",
    "        print('\\n')\n",
    "        \n",
    "    if not r.ok:\n",
    "        return None        \n",
    "\n",
    "    rparsed = r.json()\n",
    "    \n",
    "    if not 'Series' in list(rparsed['CompactData']['DataSet'].keys()):\n",
    "        print('no data available \\n')\n",
    "        return None\n",
    "\n",
    "    return_df = [x for x in rparsed['CompactData']['DataSet']['Series'] if 'Obs' in x]\n",
    "    for x in return_df:\n",
    "        if isinstance(x['Obs'],dict):\n",
    "            x['Obs'] = [x['Obs']]\n",
    "\n",
    "    return_df = pd.concat([pd.DataFrame(x) for x in return_df])\n",
    "    obs_keys = return_df['Obs'].apply(lambda x: [y for y in x.keys()]).tolist()\n",
    "    obs_keys = set([val for sublist in obs_keys for val in sublist])\n",
    "\n",
    "    for obs_key in obs_keys:\n",
    "        return_df[obs_key] = return_df['Obs'].apply(lambda x: x[obs_key] if obs_key in x.keys() else None)\n",
    "\n",
    "    del return_df['Obs']\n",
    "    return_df = return_df.reset_index()       \n",
    "\n",
    "    return(return_df)\n"
   ]
  },
  {
   "cell_type": "code",
   "execution_count": null,
   "metadata": {
    "collapsed": true
   },
   "outputs": [],
   "source": [
    "def compact_data_method(database_id, queryfilter=None, startdate='2001-01-01',\n",
    "                        enddate='2001-12-31', checkquery=False, verbose=False):\n",
    "    if checkquery:\n",
    "        available_datasets = dataflow_method()['DatabaseID'].tolist()\n",
    "        if database_id not in available_datasets:\n",
    "            return None\n",
    "\n",
    "    queryfilterstr = ''\n",
    "    if len(queryfilter[1]) > 0 and len(queryfilter[0]) == len(queryfilter[1]):\n",
    "        queryfilterstr = '.'.join(['+'.join(queryfilter[1][k]) for k in queryfilter[0]])\n",
    "\n",
    "    base_url = 'http://dataservices.imf.org/REST/SDMX_JSON.svc/'\n",
    "    service_name = 'CompactData/'\n",
    "    request_url = ''.join([base_url, service_name, queryfilterstr, \n",
    "                           '?startPeriod=', startdate, '&endPeriod=', enddate])\n",
    "    raw_request = requests.get(request_url)\n",
    "\n",
    "    if verbose:\n",
    "        print('\\nmaking API call:\\n')\n",
    "        print(api_str)\n",
    "        print('\\n')\n",
    "\n",
    "    if not raw_request.ok:\n",
    "        return None\n",
    "    rparsed = raw_request.json()\n",
    "\n",
    "    if 'Series' not in list(rparsed['CompactData']['DataSet'].keys()):\n",
    "        print('no data available \\n')\n",
    "        return None\n",
    "\n",
    "    return_df = [x for x in rparsed['CompactData']['DataSet']['Series'] if 'Obs' in x]\n",
    "    for x in return_df:\n",
    "        if isinstance(x['Obs'], dict):\n",
    "            x['Obs'] = [x['Obs']]\n",
    "\n",
    "    return_df = pd.concat([pd.DataFrame(x) for x in return_df])\n",
    "    obs_keys = return_df['Obs'].apply(lambda x: [y for y in x.keys()]).tolist()\n",
    "    obs_keys = set([val for sublist in obs_keys for val in sublist])\n",
    "\n",
    "    for obs_key in obs_keys:\n",
    "        return_df[obs_key] = return_df['Obs'].apply(\n",
    "            lambda x: x[obs_key] if (obs_key in x.keys()) else None)\n",
    "\n",
    "    del return_df['Obs']\n",
    "    return_df = return_df.reset_index()\n",
    "\n",
    "    return return_df"
   ]
  },
  {
   "cell_type": "code",
   "execution_count": null,
   "metadata": {
    "collapsed": false
   },
   "outputs": [],
   "source": [
    "queryfilter = (['CL_FREA','CL_AREA_IFS','CL_INDICATOR_IFS'], \n",
    "               {'CL_FREA':['Q','A'],\n",
    "                'CL_AREA_IFS':['GR'],\n",
    "                'CL_INDICATOR_IFS':['NGDP_EUR','NGDP_XDC']})\n",
    "CompactDataMethod('IFS', queryfilter)"
   ]
  },
  {
   "cell_type": "code",
   "execution_count": null,
   "metadata": {
    "collapsed": true
   },
   "outputs": [],
   "source": [
    "# teststr = 'http://dataservices.imf.org/REST/SDMX_JSON.svc/CompactData/IFS/Q+A.GR.NGDP_EUR+NGDP_XDC?startPeriod=2001-01-01&endPeriod=2001-12-31'\n",
    "teststr = 'http://dataservices.imf.org/REST/SDMX_JSON.svc/CompactData/IFS/A.GR.NGDP_EUR+NGDP_XDC?startPeriod=1990-01-01&endPeriod=2001-12-31'\n",
    "# teststr = 'http://dataservices.imf.org/REST/SDMX_JSON.svc/CompactData/IFS/Q+A.GR.NGDP_EsUR+NGDP_sXDC?startPeriod=2001-01-01&endPeriod=2001-12-31'"
   ]
  },
  {
   "cell_type": "code",
   "execution_count": null,
   "metadata": {
    "collapsed": false
   },
   "outputs": [],
   "source": [
    "r = requests.get(teststr)        \n",
    "rparsed = r.json()\n",
    "return_df = [x for x in rparsed['CompactData']['DataSet']['Series'] if 'Obs' in x]\n",
    "for x in return_df:\n",
    "    if isinstance(x['Obs'],dict):\n",
    "        x['Obs'] = [x['Obs']]\n",
    "        \n",
    "return_df = pd.concat([pd.DataFrame(x) for x in return_df])\n",
    "obs_keys = return_df['Obs'].apply(lambda x: [y for y in x.keys()]).tolist()\n",
    "obs_keys = set([val for sublist in obs_keys for val in sublist])\n",
    "\n",
    "for obs_key in obs_keys:\n",
    "    return_df[obs_key] = return_df['Obs'].apply(lambda x: x[obs_key] if obs_key in x.keys() else None)\n",
    "\n",
    "del return_df['Obs']\n",
    "return_df = return_df.reset_index()"
   ]
  },
  {
   "cell_type": "code",
   "execution_count": null,
   "metadata": {
    "collapsed": false
   },
   "outputs": [],
   "source": [
    "return_df.reset_index()"
   ]
  },
  {
   "cell_type": "code",
   "execution_count": null,
   "metadata": {
    "collapsed": false
   },
   "outputs": [],
   "source": [
    "return_df['Obs'].iloc[11]['@OBS_VALUE']"
   ]
  },
  {
   "cell_type": "code",
   "execution_count": null,
   "metadata": {
    "collapsed": false
   },
   "outputs": [],
   "source": [
    "return_df['Obs'].appl"
   ]
  },
  {
   "cell_type": "code",
   "execution_count": null,
   "metadata": {
    "collapsed": false
   },
   "outputs": [],
   "source": [
    "rparsed['CompactData']['DataSet']['Series'][0]"
   ]
  },
  {
   "cell_type": "code",
   "execution_count": null,
   "metadata": {
    "collapsed": false
   },
   "outputs": [],
   "source": [
    "adict = {'a':1, 'b':2, 'c':3}"
   ]
  },
  {
   "cell_type": "code",
   "execution_count": null,
   "metadata": {
    "collapsed": false
   },
   "outputs": [],
   "source": [
    "'a' in adict"
   ]
  },
  {
   "cell_type": "code",
   "execution_count": null,
   "metadata": {
    "collapsed": false
   },
   "outputs": [],
   "source": [
    "adict.iteritems()"
   ]
  },
  {
   "cell_type": "code",
   "execution_count": null,
   "metadata": {
    "collapsed": true
   },
   "outputs": [],
   "source": []
  }
 ],
 "metadata": {
  "anaconda-cloud": {},
  "celltoolbar": "Raw Cell Format",
  "kernelspec": {
   "display_name": "Python [conda root]",
   "language": "python",
   "name": "conda-root-py"
  },
  "language_info": {
   "codemirror_mode": {
    "name": "ipython",
    "version": 3
   },
   "file_extension": ".py",
   "mimetype": "text/x-python",
   "name": "python",
   "nbconvert_exporter": "python",
   "pygments_lexer": "ipython3",
   "version": "3.5.2"
  }
 },
 "nbformat": 4,
 "nbformat_minor": 0
}
