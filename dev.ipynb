{
 "cells": [
  {
   "cell_type": "code",
   "execution_count": 172,
   "metadata": {
    "collapsed": false
   },
   "outputs": [],
   "source": [
    "import requests\n",
    "import json\n",
    "import pandas as pd\n",
    "import collections"
   ]
  },
  {
   "cell_type": "code",
   "execution_count": 66,
   "metadata": {
    "collapsed": true
   },
   "outputs": [],
   "source": [
    "r = requests.get('http://dataservices.imf.org/RESsT/SDMX_JSON.svc/Dataflow/')"
   ]
  },
  {
   "cell_type": "code",
   "execution_count": 45,
   "metadata": {
    "collapsed": false
   },
   "outputs": [],
   "source": [
    "def DataflowMethod():\n",
    "    r = requests.get('http://dataservices.imf.org/REST/SDMX_JSON.svc/Dataflow/')\n",
    "    IDs = pd.DataFrame(r.json()['Structure']['Dataflows']['Dataflow'])['KeyFamilyRef'].apply(lambda x: x['KeyFamilyID'])\n",
    "    Texts = pd.DataFrame(r.json()['Structure']['Dataflows']['Dataflow'])['Name'].apply(lambda x: x['#text'])\n",
    "    return(pd.DataFrame({'DatabaseID': IDs, \n",
    "                         'DatabaseText': Texts}))"
   ]
  },
  {
   "cell_type": "code",
   "execution_count": 170,
   "metadata": {
    "collapsed": false
   },
   "outputs": [],
   "source": [
    "def DataStructureMethod(database_id, check_query = False):\n",
    "    \n",
    "    if check_query:\n",
    "        available_datasets = DataflowMethod()['DatabaseID'].tolist()\n",
    "        if not database_id in available_datasets:\n",
    "            return None\n",
    "\n",
    "    r = requests.get(''.join(['http://dataservices.imf.org/REST/SDMX_JSON.svc/DataStructure/',database_id]))\n",
    "    if not r.ok:\n",
    "        return None\n",
    "\n",
    "    rparsed = r.json()\n",
    "    dim_code = pd.Series(rparsed['Structure']['KeyFamilies']['KeyFamily']['Components']['Dimension']).apply(lambda x: x['@codelist']).tolist()\n",
    "    dim_codedict = [x for x in rparsed['Structure']['CodeLists']['CodeList'] if x['@id'] in dim_code]\n",
    "    dim_codedict = dict(zip(pd.Series(dim_codedict).apply(lambda x: x['@id']).tolist(), dim_codedict))\n",
    "    for k in dim_codedict.keys():\n",
    "        dim_codedict[k] = pd.DataFrame({\n",
    "                'CodeValue' : pd.Series(dim_codedict[k]['Code']).apply(lambda x: x['@value']),\n",
    "                'CodeText' : pd.Series(dim_codedict[k]['Code']).apply(lambda x: x['Description']['#text'])\n",
    "            })\n",
    "    \n",
    "    return((dim_code, dim_codedict))"
   ]
  },
  {
   "cell_type": "code",
   "execution_count": 201,
   "metadata": {
    "collapsed": false
   },
   "outputs": [],
   "source": [
    "def CompactDataMethod(database_, queryfilter=None, \n",
    "                      startdate='2001-01-01', enddate='2001-12-31',\n",
    "                      checkquery = False, verbose=False, tidy=False):\n",
    "    \n",
    "    if checkquery:\n",
    "        available_datasets = DataflowMethod()['DatabaseID'].tolist()\n",
    "        if not database_id in available_datasets:\n",
    "            return None\n",
    "        \n",
    "    queryfilterstr = ''\n",
    "    if len(queryfilter[1]) > 0 and len(queryfilter[0]) == len(queryfilter[1]):\n",
    "        queryfilterstr = '.'.join(['+'.join(queryfilter[1][k]) for k in queryfilter[0]])\n",
    "        \n",
    "    APIstr = ''.join(['http://dataservices.imf.org/REST/SDMX_JSON.svc/CompactData/',\n",
    "                      databaseID,'/',queryfilterstr,'?startPeriod=',startdate,'&endPeriod=',enddate])\n",
    "    r = requests.get(APIstr)        \n",
    "    \n",
    "    if verbose:\n",
    "        print('\\nmaking API call:\\n')\n",
    "        print(APIstr)\n",
    "        print('\\n')\n",
    "        \n",
    "    if not r.ok:\n",
    "        return None        \n",
    "\n",
    "    rparsed = r.json()\n",
    "    \n",
    "    if(is.null(r.parsed$CompactData$DataSet$Series)){\n",
    "    warning(\"No data available\")\n",
    "    return(NULL)\n",
    "    }\n",
    "\n",
    "    if(class(r.parsed$CompactData$DataSet$Series) == \"data.frame\"){\n",
    "    r.parsed$CompactData$DataSet$Series <- r.parsed$CompactData$DataSet$Series[!plyr::laply(r.parsed$CompactData$DataSet$Series$Obs, is.null),]\n",
    "    if(nrow(r.parsed$CompactData$DataSet$Series) ==0){\n",
    "      warning(\"No data available\")\n",
    "      return(NULL)\n",
    "    }\n",
    "    }\n",
    "\n",
    "    if(class(r.parsed$CompactData$DataSet$Series) == \"list\"){\n",
    "    if(is.null(r.parsed$CompactData$DataSet$Series$Obs)){\n",
    "      warning(\"No data available\")\n",
    "      return(NULL)\n",
    "    }\n",
    "    ret.df <- as.data.frame(r.parsed$CompactData$DataSet$Series[1:(length(r.parsed$CompactData$DataSet$Series)-1)])\n",
    "    ret.df$Obs <- list(r.parsed$CompactData$DataSet$Series$Obs)\n",
    "    names(ret.df) <- names(r.parsed$CompactData$DataSet$Series)\n",
    "    r.parsed$CompactData$DataSet$Series <- ret.df\n",
    "    }\n",
    "\n",
    "    if(tidy){\n",
    "    ret.df <- r.parsed$CompactData$DataSet$Series\n",
    "    for(i in 1:length(ret.df$Obs)){\n",
    "      ret.df$Obs[[i]] <- merge(ret.df$Obs[[i]], ret.df[i,1:(ncol(ret.df)-1)])\n",
    "    }\n",
    "    ret.df <- plyr::ldply(ret.df$Obs)\n",
    "    return(ret.df)\n",
    "    }\n"
   ]
  },
  {
   "cell_type": "code",
   "execution_count": null,
   "metadata": {
    "collapsed": true
   },
   "outputs": [],
   "source": [
    "queryfilter = (['CL_FREA','CL_AREA_IFS','CL_INDICATOR_IFS'], \n",
    "               {'CL_FREA':['Q','A'],\n",
    "                'CL_AREA_IFS':['GR'],\n",
    "                'CL_INDICATOR_IFS':['NGDP_EUR','NGDP_XDC']})\n",
    "\n",
    "startdate = '2001-01-01'\n",
    "enddate='2001-12-31'\n",
    "checkquery = False\n",
    "verbose=False\n",
    "tidy=False\n",
    "\n",
    "queryfilterstr = ''\n",
    "if len(queryfilter[1]) > 0 and len(queryfilter[0]) == len(queryfilter[1]):\n",
    "    queryfilterstr = '.'.join(['+'.join(queryfilter[1][k]) for k in queryfilter[0]])\n",
    "\n",
    "APIstr = ''.join(['http://dataservices.imf.org/REST/SDMX_JSON.svc/CompactData/',\n",
    "                  databaseID,'/',queryfilterstr,'?startPeriod=',startdate,'&endPeriod=',enddate])"
   ]
  },
  {
   "cell_type": "code",
   "execution_count": 205,
   "metadata": {
    "collapsed": true
   },
   "outputs": [],
   "source": [
    "teststr = 'http://dataservices.imf.org/REST/SDMX_JSON.svc/CompactData/IFS/Q+A.GR.NGDP_EUR+NGDP_XDC?startPeriod=2001-01-01&endPeriod=2001-12-31'"
   ]
  },
  {
   "cell_type": "code",
   "execution_count": 206,
   "metadata": {
    "collapsed": false
   },
   "outputs": [],
   "source": [
    "r = requests.get(teststr)        \n",
    "rparsed = r.json()"
   ]
  },
  {
   "cell_type": "code",
   "execution_count": 212,
   "metadata": {
    "collapsed": false
   },
   "outputs": [
    {
     "data": {
      "text/plain": [
       "[{'@FREQ': 'Q',\n",
       "  '@INDICATOR': 'NGDP_EUR',\n",
       "  '@REF_AREA': 'GR',\n",
       "  '@TIME_FORMAT': 'P3M',\n",
       "  '@UNIT_MULT': '9',\n",
       "  'Obs': [{'@OBS_STATUS': 'K',\n",
       "    '@OBS_VALUE': '35.2366',\n",
       "    '@TIME_PERIOD': '2001-Q1'},\n",
       "   {'@OBS_VALUE': '36.7264', '@TIME_PERIOD': '2001-Q2'},\n",
       "   {'@OBS_VALUE': '39.8428', '@TIME_PERIOD': '2001-Q3'},\n",
       "   {'@OBS_VALUE': '40.3881', '@TIME_PERIOD': '2001-Q4'}]},\n",
       " {'@FREQ': 'Q',\n",
       "  '@INDICATOR': 'NGDP_XDC',\n",
       "  '@REF_AREA': 'GR',\n",
       "  '@TIME_FORMAT': 'P3M',\n",
       "  '@UNIT_MULT': '9'},\n",
       " {'@FREQ': 'A',\n",
       "  '@INDICATOR': 'NGDP_XDC',\n",
       "  '@REF_AREA': 'GR',\n",
       "  '@TIME_FORMAT': 'P1Y',\n",
       "  '@UNIT_MULT': '9'},\n",
       " {'@FREQ': 'A',\n",
       "  '@INDICATOR': 'NGDP_EUR',\n",
       "  '@REF_AREA': 'GR',\n",
       "  '@TIME_FORMAT': 'P1Y',\n",
       "  '@UNIT_MULT': '9',\n",
       "  'Obs': {'@OBS_STATUS': 'K',\n",
       "   '@OBS_VALUE': '151.9872',\n",
       "   '@TIME_PERIOD': '2001'}}]"
      ]
     },
     "execution_count": 212,
     "metadata": {},
     "output_type": "execute_result"
    }
   ],
   "source": [
    "rparsed['CompactData']['DataSet']['Series']"
   ]
  },
  {
   "cell_type": "code",
   "execution_count": null,
   "metadata": {
    "collapsed": true
   },
   "outputs": [],
   "source": [
    "CompactDataMethod <- function(databaseID, queryfilter,\n",
    "                              startdate='2001-01-01', enddate='2001-12-31',\n",
    "                              checkquery = FALSE, verbose=FALSE, tidy=FALSE){\n",
    "  if(checkquery){\n",
    "    available.datasets <- DataflowMethod()$DatabaseID\n",
    "    if (!is.element(databaseID, available.datasets)){\n",
    "      stop('databaseID is not exist in API')\n",
    "      return(NULL)\n",
    "    }\n",
    "    acceptedquery <- DataStructureMethod(databaseID)\n",
    "    if (length(queryfilter) !=0 ||\n",
    "        length(queryfilter) != length(acceptedquery)){\n",
    "      stop('queryfilter is wrong format')\n",
    "      return(NULL)\n",
    "    }\n",
    "  }\n",
    "\n",
    "  queryfilterstr <- ''\n",
    "  if (length(queryfilter) > 0){\n",
    "    queryfilterstr <- paste0(\n",
    "      unlist(plyr::llply(queryfilter,\n",
    "                         function(x)(paste0(x, collapse=\"+\")))), collapse=\".\")\n",
    "  }\n",
    "\n",
    "  APIstr <- paste0('http://dataservices.imf.org/REST/SDMX_JSON.svc/CompactData/',\n",
    "                    databaseID,'/',queryfilterstr,\n",
    "                    '?startPeriod=',startdate,'&endPeriod=',enddate)\n",
    "  r <- httr::GET(APIstr)\n",
    "\n",
    "  if(verbose){\n",
    "    cat('\\nmaking API call:\\n')\n",
    "    cat(APIstr)\n",
    "    cat('\\n')\n",
    "  }\n",
    "\n",
    "  if(httr::http_status(r)$reason != \"OK\"){\n",
    "    stop(paste(unlist(httr::http_status(r))))\n",
    "    return(list())\n",
    "  }\n",
    "  r.parsed <- jsonlite::fromJSON(httr::content(r, \"text\"))\n",
    "\n",
    "  if(is.null(r.parsed$CompactData$DataSet$Series)){\n",
    "    warning(\"No data available\")\n",
    "    return(NULL)\n",
    "  }\n",
    "\n",
    "  if(class(r.parsed$CompactData$DataSet$Series) == \"data.frame\"){\n",
    "    r.parsed$CompactData$DataSet$Series <- r.parsed$CompactData$DataSet$Series[!plyr::laply(r.parsed$CompactData$DataSet$Series$Obs, is.null),]\n",
    "    if(nrow(r.parsed$CompactData$DataSet$Series) ==0){\n",
    "      warning(\"No data available\")\n",
    "      return(NULL)\n",
    "    }\n",
    "  }\n",
    "\n",
    "  if(class(r.parsed$CompactData$DataSet$Series) == \"list\"){\n",
    "    if(is.null(r.parsed$CompactData$DataSet$Series$Obs)){\n",
    "      warning(\"No data available\")\n",
    "      return(NULL)\n",
    "    }\n",
    "    ret.df <- as.data.frame(r.parsed$CompactData$DataSet$Series[1:(length(r.parsed$CompactData$DataSet$Series)-1)])\n",
    "    ret.df$Obs <- list(r.parsed$CompactData$DataSet$Series$Obs)\n",
    "    names(ret.df) <- names(r.parsed$CompactData$DataSet$Series)\n",
    "    r.parsed$CompactData$DataSet$Series <- ret.df\n",
    "  }\n",
    "\n",
    "  if(tidy){\n",
    "    ret.df <- r.parsed$CompactData$DataSet$Series\n",
    "    for(i in 1:length(ret.df$Obs)){\n",
    "      ret.df$Obs[[i]] <- merge(ret.df$Obs[[i]], ret.df[i,1:(ncol(ret.df)-1)])\n",
    "    }\n",
    "    ret.df <- plyr::ldply(ret.df$Obs)\n",
    "    return(ret.df)\n",
    "  }\n",
    "\n",
    "  return(r.parsed$CompactData$DataSet$Series)\n",
    "}"
   ]
  },
  {
   "cell_type": "code",
   "execution_count": 171,
   "metadata": {
    "collapsed": false
   },
   "outputs": [
    {
     "data": {
      "text/plain": [
       "(['CL_FREQ', 'CL_AREA_IFS', 'CL_INDICATOR_IFS'],\n",
       " {'CL_AREA_IFS':                                               CodeText  \\\n",
       "  0                                          Afghanistan   \n",
       "  1                                              Albania   \n",
       "  2                                              Algeria   \n",
       "  3                                       American Samoa   \n",
       "  4                                               Angola   \n",
       "  5                                             Anguilla   \n",
       "  6                                  Antigua and Barbuda   \n",
       "  7                             AMF (Arab Monetary Fund)   \n",
       "  8                                            Argentina   \n",
       "  9                                              Armenia   \n",
       "  10                                               Aruba   \n",
       "  11                                           Australia   \n",
       "  12                                             Austria   \n",
       "  13                                          Azerbaijan   \n",
       "  14                                             Bahamas   \n",
       "  15                                             Bahrain   \n",
       "  16                                          Bangladesh   \n",
       "  17       BEAC (Banque des Etats de l`Afrique Centrale)   \n",
       "  18            BIS (Bank for International Settlements)   \n",
       "  19                                            Barbados   \n",
       "  20                                             Belarus   \n",
       "  21                                             Belgium   \n",
       "  22                     Belgo-Luxembourg Economic Union   \n",
       "  23                                              Belize   \n",
       "  24                                               Benin   \n",
       "  25                                             Bermuda   \n",
       "  26                                              Bhutan   \n",
       "  27                                             Bolivia   \n",
       "  28                              Bosnia and Herzegovina   \n",
       "  29                                            Botswana   \n",
       "  ..                                                 ...   \n",
       "  251                         Central and eastern Europe   \n",
       "  252              Community of Independent States (CIS)   \n",
       "  253                 Countries Home Portal Presentation   \n",
       "  254                          Eastern Africa deprecated   \n",
       "  255                   Eastern Caribbean Currency Union   \n",
       "  256                              Developing Asia (IMF)   \n",
       "  257                  Emerging and Developing Countries   \n",
       "  258                     Emerging and Developing Europe   \n",
       "  259                                             EPU/EF   \n",
       "  260                                             1C_EMU   \n",
       "  261                                             Europe   \n",
       "  262                              Export earnings: fuel   \n",
       "  263                           Export earnings: nonfuel   \n",
       "  264                                        Middle East   \n",
       "  265                Middle East and North Africa (MENA)   \n",
       "  266  Middle East, North Africa, Afghanistan, and Pa...   \n",
       "  267                  National Accounts (NSA) Countries   \n",
       "  268                   National Accounts (SA) Countries   \n",
       "  269                 Non-oil Developing Countries (IMF)   \n",
       "  270                                  Non SRF countries   \n",
       "  271                      Oil-exporting Countries (IMF)   \n",
       "  272          Other Central America not allocated (IMF)   \n",
       "  273                                      Other Holders   \n",
       "  274                                 SRF (excluding EA)   \n",
       "  275                                 SRF (including EA)   \n",
       "  276                                      SRF Countries   \n",
       "  277                                 Sub-Saharan Africa   \n",
       "  278   WAEMU (West African Economic and Monetary Union)   \n",
       "  279                                 Western Hemisphere   \n",
       "  280                    All Countries, excluding the IO   \n",
       "  \n",
       "                                CodeValue  \n",
       "  0                                    AF  \n",
       "  1                                    AL  \n",
       "  2                                    DZ  \n",
       "  3                                    AS  \n",
       "  4                                    AO  \n",
       "  5                                    AI  \n",
       "  6                                    AG  \n",
       "  7                                    5M  \n",
       "  8                                    AR  \n",
       "  9                                    AM  \n",
       "  10                                   AW  \n",
       "  11                                   AU  \n",
       "  12                                   AT  \n",
       "  13                                   AZ  \n",
       "  14                                   BS  \n",
       "  15                                   BH  \n",
       "  16                                   BD  \n",
       "  17                                   5W  \n",
       "  18                                   5B  \n",
       "  19                                   BB  \n",
       "  20                                   BY  \n",
       "  21                                   BE  \n",
       "  22                                   R1  \n",
       "  23                                   BZ  \n",
       "  24                                   BJ  \n",
       "  25                                   BM  \n",
       "  26                                   BT  \n",
       "  27                                   BO  \n",
       "  28                                   BA  \n",
       "  29                                   BW  \n",
       "  ..                                  ...  \n",
       "  251                              1C_904  \n",
       "  252                                 R14  \n",
       "  253  Countries_Home_Portal_Presentation  \n",
       "  254                                  F3  \n",
       "  255                                  5Y  \n",
       "  256                                XS25  \n",
       "  257                                XR43  \n",
       "  258                              1C_903  \n",
       "  259                              1C_994  \n",
       "  260                              1C_EMU  \n",
       "  261                                  E1  \n",
       "  262                              1C_080  \n",
       "  263                              1C_092  \n",
       "  264                                 F97  \n",
       "  265                                 F98  \n",
       "  266                              1C_440  \n",
       "  267                            1C_NANSA  \n",
       "  268                             1C_NASA  \n",
       "  269                                XR44  \n",
       "  270                              1C_NSC  \n",
       "  271                                XR21  \n",
       "  272                                XA69  \n",
       "  273                              1C_970  \n",
       "  274                     1C_SRF_less_EMU  \n",
       "  275                     1C_SRF_plus_EMU  \n",
       "  276                              1C_SRF  \n",
       "  277                                  F6  \n",
       "  278                                  7A  \n",
       "  279                                 A10  \n",
       "  280                                 W00  \n",
       "  \n",
       "  [281 rows x 2 columns], 'CL_FREQ':     CodeText CodeValue\n",
       "  0     Annual         A\n",
       "  1  Bi-annual         B\n",
       "  2  Quarterly         Q\n",
       "  3    Monthly         M\n",
       "  4      Daily         D\n",
       "  5     Weekly         W, 'CL_INDICATOR_IFS':                                                CodeText  \\\n",
       "  0                        Agricultural Production, Index   \n",
       "  1     All Commodities (Fuel and Non Fuel), Price, Index   \n",
       "  2                        All items, Capital City, Index   \n",
       "  3     Assets, Direct investment, Debt instruments, U...   \n",
       "  4     Assets, Direct investment, Equity and investme...   \n",
       "  5                 Assets, Direct investment, US Dollars   \n",
       "  6                 Assets, FDI Abroad (BPM5), US Dollars   \n",
       "  7     Assets, Financial derivatives (other than rese...   \n",
       "  8           Assets, Other Investment (BPM5), US Dollars   \n",
       "  9     Assets, Other Investment, Banks (BPM5), US Dol...   \n",
       "  10    Assets, Other Investment, General Government (...   \n",
       "  11    Assets, Other Investment, Monetary Authorities...   \n",
       "  12    Assets, Other investment, Other equity , US Do...   \n",
       "  13    Assets, Other Investment, Other Sectors (BPM5)...   \n",
       "  14            Assets, Portfolio investment , US Dollars   \n",
       "  15    Assets, Portfolio Investment excluding Financi...   \n",
       "  16    Assets, Portfolio Investment, Debt Securities ...   \n",
       "  17    Assets, Portfolio investment, Debt securities ...   \n",
       "  18    Assets, Portfolio Investment, Debt Securities,...   \n",
       "  19    Assets, Portfolio investment, Equity and inves...   \n",
       "  20    Assets, Portfolio Investment, Equity Securitie...   \n",
       "  21                     Assets, Total (BPM5), US Dollars   \n",
       "  22                        Base Money, National Currency   \n",
       "  23    Base Money, Seasonally adjusted, National Curr...   \n",
       "  24           Base Money, Seasonally adjusted, US dollar   \n",
       "  25                               Base Money, US Dollars   \n",
       "  26    Broad Money, Alternate Definition 1, Seasonall...   \n",
       "  27    Broad Money, Currency Issued by Central Govern...   \n",
       "  28    Broad Money, Currency Issued by Central Govern...   \n",
       "  29    Broad Money, Currency Issued by Central Govern...   \n",
       "  ...                                                 ...   \n",
       "  2642          Total Reserves excluding Gold, US Dollars   \n",
       "  2643  Total Reserves in SDR, including Gold at Marke...   \n",
       "  2644  Total Reserves Minus Gold, Other Reserve Asset...   \n",
       "  2645  U.S. Dollar per National Currency, end of peri...   \n",
       "  2646  U.S. Dollar per National Currency, end of peri...   \n",
       "  2647  U.S. Dollar per National Currency, end of peri...   \n",
       "  2648  U.S. Dollar per National Currency, period aver...   \n",
       "  2649       UFC & Loans as % of Quota, Percent per annum   \n",
       "  2650                                  UFC & Loans, SDRs   \n",
       "  2651                            UFC & Loans, US Dollars   \n",
       "  2652                         Unemployment Rate, Percent   \n",
       "  2653                      Unemployment, Persons, Number   \n",
       "  2654  US Dollar per National Currency, End of period...   \n",
       "  2655  US Dollar per National Currency, Period Averag...   \n",
       "  2656             US Dollar per SDR, End of period, Rate   \n",
       "  2657            US Dollar per SDR, Period average, Rate   \n",
       "  2658  US Dollars per ounce of gold, End of period, Rate   \n",
       "  2659  Use of Fund Credit and Loans, Reserve Tranche ...   \n",
       "  2660                            Value of Imports, Euros   \n",
       "  2661                       Value of Imports, FOB, Euros   \n",
       "  2662  Value of Imports, Free on Board (FOB), US Dollars   \n",
       "  2663       Variations of Quasi Money, National Currency   \n",
       "  2664                                  Wage Rates, Index   \n",
       "  2665  Wage Rates, Percentage change, previous period...   \n",
       "  2666             Wage Rates, Seasonally adjusted, Index   \n",
       "  2667            Wholesale Price Index, All Items, Index   \n",
       "  2668  World Bank Non-energy Commodities for Lower Mi...   \n",
       "  2669                                     All Indicators   \n",
       "  2670           All Indicators Excluding NGDP Indicators   \n",
       "  2671                  Groups for testing transformation   \n",
       "  \n",
       "                                       CodeValue  \n",
       "  0                                       AAP_IX  \n",
       "  1                                      PZPI_IX  \n",
       "  2                                   PCPI_A1_IX  \n",
       "  3                                 IADD_BP6_USD  \n",
       "  4                                 IADE_BP6_USD  \n",
       "  5                                  IAD_BP6_USD  \n",
       "  6                                      IAD_USD  \n",
       "  7                                 IADF_BP6_USD  \n",
       "  8                                      IAO_USD  \n",
       "  9                                     IAOB_USD  \n",
       "  10                                    IAOG_USD  \n",
       "  11                                    IAOA_USD  \n",
       "  12                                IAOE_BP6_USD  \n",
       "  13                                   IAOOS_USD  \n",
       "  14                                 IAP_BP6_USD  \n",
       "  15                                  IAPXFD_USD  \n",
       "  16                                    IAPD_USD  \n",
       "  17                                IAPD_BP6_USD  \n",
       "  18                                   IAPDF_USD  \n",
       "  19                                IAPE_BP6_USD  \n",
       "  20                                    IAPE_USD  \n",
       "  21                                      IA_USD  \n",
       "  22                                     FMA_XDC  \n",
       "  23                                  FMA_SA_XDC  \n",
       "  24                                  FMA_SA_USD  \n",
       "  25                                     FMA_USD  \n",
       "  26                              FM5B_A1_SA_XDC  \n",
       "  27                                   FMBCC_EUR  \n",
       "  28                                   FMBCC_XDC  \n",
       "  29                                   FMBCC_USD  \n",
       "  ...                                        ...  \n",
       "  2642                                  RAXG_USD  \n",
       "  2643                                  RAIG_XDR  \n",
       "  2644                                 RAXGO_USD  \n",
       "  2645                         EDNE_XDC_USD_RATE  \n",
       "  2646                                  EDNE_USD  \n",
       "  2647                         EDNE_USD_XDC_RATE  \n",
       "  2648                                  EDNA_USD  \n",
       "  2649                                  HPUPQ_PA  \n",
       "  2650                                   HPU_XDR  \n",
       "  2651                                   HPU_USD  \n",
       "  2652                                    LUR_PT  \n",
       "  2653                                 LU_PE_NUM  \n",
       "  2654                      EDNE_USD_XDC_FR_RATE  \n",
       "  2655                         EDNA_USD_XDC_RATE  \n",
       "  2656                         EDSE_USD_XDR_RATE  \n",
       "  2657                         EDSA_USD_XDR_RATE  \n",
       "  2658                         EDGE_USD_OZT_RATE  \n",
       "  2659                                HPURTP_XDR  \n",
       "  2660                               TMG_CIF_EUR  \n",
       "  2661                               TMG_FOB_EUR  \n",
       "  2662                            TMGXFZ_FOB_USD  \n",
       "  2663                                  FMQV_XDC  \n",
       "  2664                                    LWR_IX  \n",
       "  2665                              LWR_PC_PP_PT  \n",
       "  2666                                 LWR_SA_IX  \n",
       "  2667                                   PWPI_IX  \n",
       "  2668                              PZPILMICS_IX  \n",
       "  2669                            All_Indicators  \n",
       "  2670  All_Indicators_Excluding_NGDP_Indicators  \n",
       "  2671         Groups_for_testing_transformation  \n",
       "  \n",
       "  [2672 rows x 2 columns]})"
      ]
     },
     "execution_count": 171,
     "metadata": {},
     "output_type": "execute_result"
    }
   ],
   "source": [
    "# DataflowMethod()\n",
    "DataStructureMethod('IFS')"
   ]
  },
  {
   "cell_type": "code",
   "execution_count": 161,
   "metadata": {
    "collapsed": false
   },
   "outputs": [
    {
     "data": {
      "text/plain": [
       "['c', 'a', 'b']"
      ]
     },
     "execution_count": 161,
     "metadata": {},
     "output_type": "execute_result"
    }
   ],
   "source": [
    "list(adict)"
   ]
  },
  {
   "cell_type": "code",
   "execution_count": 167,
   "metadata": {
    "collapsed": false
   },
   "outputs": [
    {
     "data": {
      "text/plain": [
       "[3, 1, 2]"
      ]
     },
     "execution_count": 167,
     "metadata": {},
     "output_type": "execute_result"
    }
   ],
   "source": [
    "[x for x in adict.values()]"
   ]
  },
  {
   "cell_type": "code",
   "execution_count": 169,
   "metadata": {
    "collapsed": false
   },
   "outputs": [
    {
     "data": {
      "text/plain": [
       "dict_keys(['c', 'a', 'b'])"
      ]
     },
     "execution_count": 169,
     "metadata": {},
     "output_type": "execute_result"
    }
   ],
   "source": [
    "adict.keys()"
   ]
  },
  {
   "cell_type": "code",
   "execution_count": 174,
   "metadata": {
    "collapsed": false
   },
   "outputs": [],
   "source": [
    "adict = collections.OrderedDict({'a':1, 'b':2, 'c':3})"
   ]
  },
  {
   "cell_type": "code",
   "execution_count": null,
   "metadata": {
    "collapsed": true
   },
   "outputs": [],
   "source": []
  }
 ],
 "metadata": {
  "anaconda-cloud": {},
  "kernelspec": {
   "display_name": "Python [Root]",
   "language": "python",
   "name": "Python [Root]"
  },
  "language_info": {
   "codemirror_mode": {
    "name": "ipython",
    "version": 3
   },
   "file_extension": ".py",
   "mimetype": "text/x-python",
   "name": "python",
   "nbconvert_exporter": "python",
   "pygments_lexer": "ipython3",
   "version": "3.5.2"
  }
 },
 "nbformat": 4,
 "nbformat_minor": 0
}
